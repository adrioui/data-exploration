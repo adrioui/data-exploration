{
 "cells": [
  {
   "cell_type": "markdown",
   "id": "33b3a76c",
   "metadata": {},
   "source": [
    "# Introduction:\n",
    "\n",
    "The dataset for further analysis is customer service log from a certain company."
   ]
  },
  {
   "cell_type": "markdown",
   "id": "4c7dbab8",
   "metadata": {},
   "source": [
    "# The questions about this dataset:\n",
    "\n",
    "How many channels are typically required for a single call? \n",
    "\n",
    "Can you provide a range for the duration of calls? \n",
    "\n",
    "Are there specific trends describing whether calls are solved? \n",
    "\n",
    "Which channels should we prioritize for improvement? \n",
    "\n",
    "How should we measure the success of future improvement?"
   ]
  },
  {
   "cell_type": "code",
   "execution_count": 1,
   "id": "b8eb9be2",
   "metadata": {},
   "outputs": [],
   "source": [
    "# Import the required library\n",
    "import pandas as pd\n",
    "import matplotlib.pyplot as plt"
   ]
  },
  {
   "cell_type": "code",
   "execution_count": 2,
   "id": "5fc32606",
   "metadata": {},
   "outputs": [
    {
     "data": {
      "text/html": [
       "<div>\n",
       "<style scoped>\n",
       "    .dataframe tbody tr th:only-of-type {\n",
       "        vertical-align: middle;\n",
       "    }\n",
       "\n",
       "    .dataframe tbody tr th {\n",
       "        vertical-align: top;\n",
       "    }\n",
       "\n",
       "    .dataframe thead th {\n",
       "        text-align: right;\n",
       "    }\n",
       "</style>\n",
       "<table border=\"1\" class=\"dataframe\">\n",
       "  <thead>\n",
       "    <tr style=\"text-align: right;\">\n",
       "      <th></th>\n",
       "      <th>time</th>\n",
       "      <th>is_solved</th>\n",
       "      <th>userId</th>\n",
       "      <th>channelName</th>\n",
       "    </tr>\n",
       "  </thead>\n",
       "  <tbody>\n",
       "    <tr>\n",
       "      <th>0</th>\n",
       "      <td>1.556374e+09</td>\n",
       "      <td>0</td>\n",
       "      <td>26643</td>\n",
       "      <td>channel_0</td>\n",
       "    </tr>\n",
       "    <tr>\n",
       "      <th>1</th>\n",
       "      <td>1.546934e+09</td>\n",
       "      <td>0</td>\n",
       "      <td>636656</td>\n",
       "      <td>channel_1</td>\n",
       "    </tr>\n",
       "    <tr>\n",
       "      <th>2</th>\n",
       "      <td>1.544429e+09</td>\n",
       "      <td>0</td>\n",
       "      <td>485014</td>\n",
       "      <td>channel_2</td>\n",
       "    </tr>\n",
       "    <tr>\n",
       "      <th>3</th>\n",
       "      <td>1.547461e+09</td>\n",
       "      <td>0</td>\n",
       "      <td>772798</td>\n",
       "      <td>channel_1</td>\n",
       "    </tr>\n",
       "    <tr>\n",
       "      <th>4</th>\n",
       "      <td>1.546843e+09</td>\n",
       "      <td>0</td>\n",
       "      <td>877701</td>\n",
       "      <td>channel_3</td>\n",
       "    </tr>\n",
       "  </tbody>\n",
       "</table>\n",
       "</div>"
      ],
      "text/plain": [
       "           time  is_solved  userId channelName\n",
       "0  1.556374e+09          0   26643   channel_0\n",
       "1  1.546934e+09          0  636656   channel_1\n",
       "2  1.544429e+09          0  485014   channel_2\n",
       "3  1.547461e+09          0  772798   channel_1\n",
       "4  1.546843e+09          0  877701   channel_3"
      ]
     },
     "execution_count": 2,
     "metadata": {},
     "output_type": "execute_result"
    }
   ],
   "source": [
    "# Load the csv file and convert it to be a pandas dataframe and print out the head\n",
    "df = pd.read_csv(\"call_logging.csv\")\n",
    "df.head()"
   ]
  },
  {
   "cell_type": "code",
   "execution_count": 3,
   "id": "0e4e086c",
   "metadata": {},
   "outputs": [
    {
     "data": {
      "text/plain": [
       "(14772712, 4)"
      ]
     },
     "execution_count": 3,
     "metadata": {},
     "output_type": "execute_result"
    }
   ],
   "source": [
    "# Check the rows and columns of this dataset\n",
    "df.shape  "
   ]
  },
  {
   "cell_type": "code",
   "execution_count": 4,
   "id": "364dbe34",
   "metadata": {},
   "outputs": [
    {
     "data": {
      "text/plain": [
       "time           float64\n",
       "is_solved        int64\n",
       "userId           int64\n",
       "channelName     object\n",
       "dtype: object"
      ]
     },
     "execution_count": 4,
     "metadata": {},
     "output_type": "execute_result"
    }
   ],
   "source": [
    "# Check datatypes \n",
    "df.dtypes"
   ]
  },
  {
   "cell_type": "code",
   "execution_count": 5,
   "id": "debf527d",
   "metadata": {},
   "outputs": [
    {
     "data": {
      "text/plain": [
       "time           7929452\n",
       "is_solved            2\n",
       "userId         1000976\n",
       "channelName         23\n",
       "dtype: int64"
      ]
     },
     "execution_count": 5,
     "metadata": {},
     "output_type": "execute_result"
    }
   ],
   "source": [
    "# Check each columns number of unique values \n",
    "df.nunique()"
   ]
  },
  {
   "cell_type": "code",
   "execution_count": 6,
   "id": "533ecca6",
   "metadata": {
    "scrolled": true
   },
   "outputs": [
    {
     "name": "stdout",
     "output_type": "stream",
     "text": [
      "<class 'pandas.core.frame.DataFrame'>\n",
      "RangeIndex: 14772712 entries, 0 to 14772711\n",
      "Data columns (total 4 columns):\n",
      " #   Column       Dtype  \n",
      "---  ------       -----  \n",
      " 0   time         float64\n",
      " 1   is_solved    int64  \n",
      " 2   userId       int64  \n",
      " 3   channelName  object \n",
      "dtypes: float64(1), int64(2), object(1)\n",
      "memory usage: 450.8+ MB\n"
     ]
    }
   ],
   "source": [
    "df.info()"
   ]
  },
  {
   "cell_type": "code",
   "execution_count": 7,
   "id": "11ef9768",
   "metadata": {},
   "outputs": [
    {
     "data": {
      "text/plain": [
       "time           146601\n",
       "is_solved           0\n",
       "userId              0\n",
       "channelName    219224\n",
       "dtype: int64"
      ]
     },
     "execution_count": 7,
     "metadata": {},
     "output_type": "execute_result"
    }
   ],
   "source": [
    "# Check null values in each column\n",
    "df.isnull().sum()"
   ]
  },
  {
   "cell_type": "code",
   "execution_count": 8,
   "id": "6f192c7d",
   "metadata": {},
   "outputs": [],
   "source": [
    "# Drop all rows with all NaN and NaT values in \"channelName\" AND \"time\" columns\n",
    "df.dropna(inplace=True)"
   ]
  },
  {
   "cell_type": "code",
   "execution_count": 9,
   "id": "79ac6209",
   "metadata": {},
   "outputs": [
    {
     "data": {
      "text/plain": [
       "time           0\n",
       "is_solved      0\n",
       "userId         0\n",
       "channelName    0\n",
       "dtype: int64"
      ]
     },
     "execution_count": 9,
     "metadata": {},
     "output_type": "execute_result"
    }
   ],
   "source": [
    "# Confirm the deletion\n",
    "df.isnull().sum()"
   ]
  },
  {
   "cell_type": "code",
   "execution_count": 10,
   "id": "48a8205a",
   "metadata": {},
   "outputs": [
    {
     "data": {
      "text/plain": [
       "86"
      ]
     },
     "execution_count": 10,
     "metadata": {},
     "output_type": "execute_result"
    }
   ],
   "source": [
    "# Check if there are some duplicates\n",
    "df.duplicated().sum()"
   ]
  },
  {
   "cell_type": "code",
   "execution_count": 11,
   "id": "dbffae21",
   "metadata": {
    "scrolled": true
   },
   "outputs": [],
   "source": [
    "# Drop the duplicates\n",
    "df.drop_duplicates(inplace=True)"
   ]
  },
  {
   "cell_type": "code",
   "execution_count": 12,
   "id": "8232dd62",
   "metadata": {},
   "outputs": [
    {
     "data": {
      "text/plain": [
       "0"
      ]
     },
     "execution_count": 12,
     "metadata": {},
     "output_type": "execute_result"
    }
   ],
   "source": [
    "# Confirm the deletion of duplicates\n",
    "df.duplicated().sum()"
   ]
  },
  {
   "cell_type": "code",
   "execution_count": 13,
   "id": "09a2ffab",
   "metadata": {},
   "outputs": [],
   "source": [
    "# Convert the UNIX time format to pandas datetime\n",
    "df[\"time\"] = pd.to_datetime(df[\"time\"], unit=\"s\")"
   ]
  },
  {
   "cell_type": "markdown",
   "id": "c6f45144",
   "metadata": {},
   "source": [
    "### How many channels are typically required for a single call?"
   ]
  },
  {
   "cell_type": "code",
   "execution_count": 14,
   "id": "ae02470c",
   "metadata": {
    "scrolled": false
   },
   "outputs": [
    {
     "data": {
      "text/html": [
       "<div>\n",
       "<style scoped>\n",
       "    .dataframe tbody tr th:only-of-type {\n",
       "        vertical-align: middle;\n",
       "    }\n",
       "\n",
       "    .dataframe tbody tr th {\n",
       "        vertical-align: top;\n",
       "    }\n",
       "\n",
       "    .dataframe thead th {\n",
       "        text-align: right;\n",
       "    }\n",
       "</style>\n",
       "<table border=\"1\" class=\"dataframe\">\n",
       "  <thead>\n",
       "    <tr style=\"text-align: right;\">\n",
       "      <th></th>\n",
       "      <th>userId</th>\n",
       "      <th>channelName</th>\n",
       "      <th>count</th>\n",
       "    </tr>\n",
       "  </thead>\n",
       "  <tbody>\n",
       "    <tr>\n",
       "      <th>0</th>\n",
       "      <td>1</td>\n",
       "      <td>channel_5</td>\n",
       "      <td>4</td>\n",
       "    </tr>\n",
       "    <tr>\n",
       "      <th>1</th>\n",
       "      <td>1</td>\n",
       "      <td>channel_3</td>\n",
       "      <td>2</td>\n",
       "    </tr>\n",
       "    <tr>\n",
       "      <th>2</th>\n",
       "      <td>1</td>\n",
       "      <td>channel_0</td>\n",
       "      <td>1</td>\n",
       "    </tr>\n",
       "    <tr>\n",
       "      <th>3</th>\n",
       "      <td>1</td>\n",
       "      <td>channel_4</td>\n",
       "      <td>1</td>\n",
       "    </tr>\n",
       "    <tr>\n",
       "      <th>4</th>\n",
       "      <td>1</td>\n",
       "      <td>channel_2</td>\n",
       "      <td>1</td>\n",
       "    </tr>\n",
       "    <tr>\n",
       "      <th>...</th>\n",
       "      <td>...</td>\n",
       "      <td>...</td>\n",
       "      <td>...</td>\n",
       "    </tr>\n",
       "    <tr>\n",
       "      <th>6990849</th>\n",
       "      <td>10001000</td>\n",
       "      <td>channel_2</td>\n",
       "      <td>23</td>\n",
       "    </tr>\n",
       "    <tr>\n",
       "      <th>6990850</th>\n",
       "      <td>10001000</td>\n",
       "      <td>channel_15</td>\n",
       "      <td>19</td>\n",
       "    </tr>\n",
       "    <tr>\n",
       "      <th>6990851</th>\n",
       "      <td>10001000</td>\n",
       "      <td>channel_18</td>\n",
       "      <td>13</td>\n",
       "    </tr>\n",
       "    <tr>\n",
       "      <th>6990852</th>\n",
       "      <td>10001000</td>\n",
       "      <td>channel_21</td>\n",
       "      <td>9</td>\n",
       "    </tr>\n",
       "    <tr>\n",
       "      <th>6990853</th>\n",
       "      <td>10001000</td>\n",
       "      <td>channel_20</td>\n",
       "      <td>2</td>\n",
       "    </tr>\n",
       "  </tbody>\n",
       "</table>\n",
       "<p>6990854 rows × 3 columns</p>\n",
       "</div>"
      ],
      "text/plain": [
       "           userId channelName  count\n",
       "0               1   channel_5      4\n",
       "1               1   channel_3      2\n",
       "2               1   channel_0      1\n",
       "3               1   channel_4      1\n",
       "4               1   channel_2      1\n",
       "...           ...         ...    ...\n",
       "6990849  10001000   channel_2     23\n",
       "6990850  10001000  channel_15     19\n",
       "6990851  10001000  channel_18     13\n",
       "6990852  10001000  channel_21      9\n",
       "6990853  10001000  channel_20      2\n",
       "\n",
       "[6990854 rows x 3 columns]"
      ]
     },
     "execution_count": 14,
     "metadata": {},
     "output_type": "execute_result"
    }
   ],
   "source": [
    "# Count the channels used for each customer\n",
    "# Deactivate multiindexing for easier use\n",
    "channels_used = df.groupby([\"userId\"], as_index=False)[\"channelName\"].value_counts()\n",
    "channels_used"
   ]
  },
  {
   "cell_type": "code",
   "execution_count": 15,
   "id": "d54ebdde",
   "metadata": {},
   "outputs": [
    {
     "name": "stderr",
     "output_type": "stream",
     "text": [
      "/tmp/ipykernel_273/3751260134.py:2: FutureWarning: The default value of numeric_only in DataFrameGroupBy.sum is deprecated. In a future version, numeric_only will default to False. Either specify numeric_only or select only columns which should be valid for the function.\n",
      "  counts_of_channels_used_only_once = channels_used.groupby([\"userId\"], as_index=False).sum()\n"
     ]
    },
    {
     "data": {
      "text/html": [
       "<div>\n",
       "<style scoped>\n",
       "    .dataframe tbody tr th:only-of-type {\n",
       "        vertical-align: middle;\n",
       "    }\n",
       "\n",
       "    .dataframe tbody tr th {\n",
       "        vertical-align: top;\n",
       "    }\n",
       "\n",
       "    .dataframe thead th {\n",
       "        text-align: right;\n",
       "    }\n",
       "</style>\n",
       "<table border=\"1\" class=\"dataframe\">\n",
       "  <thead>\n",
       "    <tr style=\"text-align: right;\">\n",
       "      <th></th>\n",
       "      <th>userId</th>\n",
       "      <th>count</th>\n",
       "    </tr>\n",
       "  </thead>\n",
       "  <tbody>\n",
       "    <tr>\n",
       "      <th>0</th>\n",
       "      <td>1</td>\n",
       "      <td>14</td>\n",
       "    </tr>\n",
       "    <tr>\n",
       "      <th>1</th>\n",
       "      <td>2</td>\n",
       "      <td>6</td>\n",
       "    </tr>\n",
       "    <tr>\n",
       "      <th>2</th>\n",
       "      <td>3</td>\n",
       "      <td>15</td>\n",
       "    </tr>\n",
       "    <tr>\n",
       "      <th>3</th>\n",
       "      <td>4</td>\n",
       "      <td>11</td>\n",
       "    </tr>\n",
       "    <tr>\n",
       "      <th>4</th>\n",
       "      <td>5</td>\n",
       "      <td>14</td>\n",
       "    </tr>\n",
       "    <tr>\n",
       "      <th>5</th>\n",
       "      <td>6</td>\n",
       "      <td>12</td>\n",
       "    </tr>\n",
       "    <tr>\n",
       "      <th>6</th>\n",
       "      <td>7</td>\n",
       "      <td>9</td>\n",
       "    </tr>\n",
       "    <tr>\n",
       "      <th>7</th>\n",
       "      <td>8</td>\n",
       "      <td>7</td>\n",
       "    </tr>\n",
       "    <tr>\n",
       "      <th>8</th>\n",
       "      <td>9</td>\n",
       "      <td>11</td>\n",
       "    </tr>\n",
       "    <tr>\n",
       "      <th>9</th>\n",
       "      <td>10</td>\n",
       "      <td>9</td>\n",
       "    </tr>\n",
       "  </tbody>\n",
       "</table>\n",
       "</div>"
      ],
      "text/plain": [
       "   userId  count\n",
       "0       1     14\n",
       "1       2      6\n",
       "2       3     15\n",
       "3       4     11\n",
       "4       5     14\n",
       "5       6     12\n",
       "6       7      9\n",
       "7       8      7\n",
       "8       9     11\n",
       "9      10      9"
      ]
     },
     "execution_count": 15,
     "metadata": {},
     "output_type": "execute_result"
    }
   ],
   "source": [
    "# Count how many channels that were used only once for each customer\n",
    "counts_of_channels_used_only_once = channels_used.groupby([\"userId\"], as_index=False).sum()\n",
    "counts_of_channels_used_only_once.head(10)"
   ]
  },
  {
   "cell_type": "code",
   "execution_count": 33,
   "id": "0da25c5c",
   "metadata": {},
   "outputs": [
    {
     "data": {
      "text/html": [
       "<div>\n",
       "<style scoped>\n",
       "    .dataframe tbody tr th:only-of-type {\n",
       "        vertical-align: middle;\n",
       "    }\n",
       "\n",
       "    .dataframe tbody tr th {\n",
       "        vertical-align: top;\n",
       "    }\n",
       "\n",
       "    .dataframe thead th {\n",
       "        text-align: right;\n",
       "    }\n",
       "</style>\n",
       "<table border=\"1\" class=\"dataframe\">\n",
       "  <thead>\n",
       "    <tr style=\"text-align: right;\">\n",
       "      <th></th>\n",
       "      <th>userId</th>\n",
       "      <th>counts_of_channels_used_only_once</th>\n",
       "    </tr>\n",
       "  </thead>\n",
       "  <tbody>\n",
       "    <tr>\n",
       "      <th>0</th>\n",
       "      <td>1</td>\n",
       "      <td>14</td>\n",
       "    </tr>\n",
       "    <tr>\n",
       "      <th>1</th>\n",
       "      <td>2</td>\n",
       "      <td>6</td>\n",
       "    </tr>\n",
       "    <tr>\n",
       "      <th>2</th>\n",
       "      <td>3</td>\n",
       "      <td>15</td>\n",
       "    </tr>\n",
       "    <tr>\n",
       "      <th>3</th>\n",
       "      <td>4</td>\n",
       "      <td>11</td>\n",
       "    </tr>\n",
       "    <tr>\n",
       "      <th>4</th>\n",
       "      <td>5</td>\n",
       "      <td>14</td>\n",
       "    </tr>\n",
       "    <tr>\n",
       "      <th>...</th>\n",
       "      <td>...</td>\n",
       "      <td>...</td>\n",
       "    </tr>\n",
       "    <tr>\n",
       "      <th>1000963</th>\n",
       "      <td>10000996</td>\n",
       "      <td>3711</td>\n",
       "    </tr>\n",
       "    <tr>\n",
       "      <th>1000964</th>\n",
       "      <td>10000997</td>\n",
       "      <td>3712</td>\n",
       "    </tr>\n",
       "    <tr>\n",
       "      <th>1000965</th>\n",
       "      <td>10000998</td>\n",
       "      <td>3690</td>\n",
       "    </tr>\n",
       "    <tr>\n",
       "      <th>1000966</th>\n",
       "      <td>10000999</td>\n",
       "      <td>3665</td>\n",
       "    </tr>\n",
       "    <tr>\n",
       "      <th>1000967</th>\n",
       "      <td>10001000</td>\n",
       "      <td>3672</td>\n",
       "    </tr>\n",
       "  </tbody>\n",
       "</table>\n",
       "<p>1000968 rows × 2 columns</p>\n",
       "</div>"
      ],
      "text/plain": [
       "           userId  counts_of_channels_used_only_once\n",
       "0               1                                 14\n",
       "1               2                                  6\n",
       "2               3                                 15\n",
       "3               4                                 11\n",
       "4               5                                 14\n",
       "...           ...                                ...\n",
       "1000963  10000996                               3711\n",
       "1000964  10000997                               3712\n",
       "1000965  10000998                               3690\n",
       "1000966  10000999                               3665\n",
       "1000967  10001000                               3672\n",
       "\n",
       "[1000968 rows x 2 columns]"
      ]
     },
     "execution_count": 33,
     "metadata": {},
     "output_type": "execute_result"
    }
   ],
   "source": [
    "# Convert groupby series to dataframe and reset the index\n",
    "user_df = pd.DataFrame(counts_of_channels_used_only_once)\n",
    "user_df"
   ]
  },
  {
   "cell_type": "code",
   "execution_count": 30,
   "id": "b4be2407",
   "metadata": {},
   "outputs": [],
   "source": [
    "# Rename the \"count\" column\n",
    "user_df.rename(columns={\"count\": \"counts_of_channels_used_only_once\"}, inplace=True)"
   ]
  },
  {
   "cell_type": "markdown",
   "id": "65befb83",
   "metadata": {},
   "source": [
    "The typical channels required for a single call are:"
   ]
  },
  {
   "cell_type": "code",
   "execution_count": 31,
   "id": "44e69a78",
   "metadata": {},
   "outputs": [
    {
     "data": {
      "text/plain": [
       "'14 channels'"
      ]
     },
     "execution_count": 31,
     "metadata": {},
     "output_type": "execute_result"
    }
   ],
   "source": [
    "# Use arithmetic mean to find the typical channels required for a single call\n",
    "channels_typically_required_for_a_single_call = int(user_df[\"counts_of_channels_used_only_once\"].mean(numeric_only=True).round())\n",
    "f\"{channels_typically_required_for_a_single_call} channels\""
   ]
  },
  {
   "cell_type": "markdown",
   "id": "4359aeb5",
   "metadata": {},
   "source": [
    "### Can you provide a range for the duration of calls?"
   ]
  },
  {
   "cell_type": "code",
   "execution_count": 19,
   "id": "5e480785",
   "metadata": {},
   "outputs": [],
   "source": [
    "# Sort the data by time\n",
    "df.sort_values(by=\"time\", inplace=True)"
   ]
  },
  {
   "cell_type": "code",
   "execution_count": 20,
   "id": "04ba8f21",
   "metadata": {},
   "outputs": [],
   "source": [
    "# Get the time interval between two adjacent calls\n",
    "df[\"time_interval\"] = df[\"time\"].diff().apply(lambda x: x.total_seconds())"
   ]
  },
  {
   "cell_type": "markdown",
   "id": "05b3f5ef",
   "metadata": {},
   "source": [
    "The range for the duration of the calls is:"
   ]
  },
  {
   "cell_type": "code",
   "execution_count": 21,
   "id": "4f0e6055",
   "metadata": {},
   "outputs": [
    {
     "data": {
      "text/plain": [
       "'78 seconds'"
      ]
     },
     "execution_count": 21,
     "metadata": {},
     "output_type": "execute_result"
    }
   ],
   "source": [
    "# Calculate the range of duration of calls by subtracting the maximum with the minimum value \n",
    "range_of_duration_of_calls = int(df[\"time_interval\"].max() - df[\"time_interval\"].min())\n",
    "f\"{range_of_duration_of_calls} seconds\""
   ]
  },
  {
   "cell_type": "markdown",
   "id": "ad55b15b",
   "metadata": {},
   "source": [
    "### Are there specific trends describing whether calls are solved?"
   ]
  },
  {
   "cell_type": "code",
   "execution_count": 22,
   "id": "b8a1f675",
   "metadata": {},
   "outputs": [],
   "source": [
    "# Drop the time_interval column\n",
    "df.drop(columns=\"time_interval\", inplace=True)"
   ]
  },
  {
   "cell_type": "markdown",
   "id": "fa5a046b",
   "metadata": {},
   "source": [
    " Count, for each hour, the number of calls that were received from all of the recorded data. "
   ]
  },
  {
   "cell_type": "code",
   "execution_count": 23,
   "id": "81274d1a",
   "metadata": {},
   "outputs": [],
   "source": [
    "# Group by the hours of calls received and count how many calls that were received\n",
    "hour_grp_is_solved = df.groupby([df[\"time\"].dt.hour], as_index=False)[\"is_solved\"].value_counts()"
   ]
  },
  {
   "cell_type": "markdown",
   "id": "72a5127c",
   "metadata": {},
   "source": [
    "The trend based on the hours of calls that were solved is skewed to the left. Which means the majority of the calls that were solved, as hours goes by, were decreased."
   ]
  },
  {
   "cell_type": "code",
   "execution_count": 108,
   "id": "953d40d4",
   "metadata": {},
   "outputs": [
    {
     "data": {
      "image/png": "[encoded data removed]",
      "text/plain": [
       "<Figure size 640x480 with 1 Axes>"
      ]
     },
     "metadata": {},
     "output_type": "display_data"
    }
   ],
   "source": [
    "# Visualize the calls that were solved by each hour\n",
    "hour_grp_is_solved.loc[hour_grp_is_solved[\"is_solved\"] == 1].plot(x=\"time\", y=\"count\", kind=\"bar\")\n",
    "plt.show()"
   ]
  },
  {
   "cell_type": "markdown",
   "id": "cfee3e84",
   "metadata": {},
   "source": [
    " Count the calls that were received from all of the recorded data on each day. "
   ]
  },
  {
   "cell_type": "code",
   "execution_count": 96,
   "id": "0fee3f12",
   "metadata": {},
   "outputs": [],
   "source": [
    "# Group by the days of calls received and count how many calls that were solved or not\n",
    "day_grp_is_solved = df.groupby([df[\"time\"].dt.day_name()], as_index=False)[\"is_solved\"].value_counts()\n",
    "\n",
    "# Sort the data by the day name of a week\n",
    "sort = [\"Monday\", \"Tuesday\", \"Wednesday\", \"Thursday\", \"Friday\", \"Saturday\", \"Sunday\"]\n",
    "day_grp_is_solved[\"time\"] = pd.Categorical(day_grp_is_solved[\"time\"], categories=sort, ordered=True)\n",
    "day_grp_is_solved = day_grp_is_solved.sort_values(\"time\")\n",
    "\n",
    "# Rename \"time\" column to \"day_name\"\n",
    "day_grp_is_solved.rename(columns={\"time\": \"day_name\"}, inplace=True)"
   ]
  },
  {
   "cell_type": "markdown",
   "id": "6e09bd47",
   "metadata": {},
   "source": [
    "For most of the days, the number of calls that were solved were decreased."
   ]
  },
  {
   "cell_type": "code",
   "execution_count": 104,
   "id": "ac022eb5",
   "metadata": {},
   "outputs": [
    {
     "data": {
      "image/png": "[encoded data removed]",
      "text/plain": [
       "<Figure size 640x480 with 1 Axes>"
      ]
     },
     "metadata": {},
     "output_type": "display_data"
    }
   ],
   "source": [
    "day_grp_is_solved.loc[day_grp_is_solved[\"is_solved\"] == 1].plot(x=\"day_name\", y=\"count\")\n",
    "plt.show()"
   ]
  },
  {
   "cell_type": "markdown",
   "id": "7686dbe6",
   "metadata": {},
   "source": [
    " Count the number of calls that were received from all of the recorded data for each channel. "
   ]
  },
  {
   "cell_type": "code",
   "execution_count": 27,
   "id": "6886eaf8",
   "metadata": {},
   "outputs": [],
   "source": [
    "# Group by channels that received the calls and count how many calls that were solved or not \n",
    "channel_grp_is_solved = df.groupby(\"channelName\", as_index=False)[\"is_solved\"].value_counts()\n",
    "\n",
    "# Extract the digits in channel's name and convert it to integer and make new column out of it\n",
    "channel_grp_is_solved[\"sort\"] = channel_grp_is_solved[\"channelName\"].str.extract(\"(\\d+)\").astype(int)\n",
    "\n",
    "# Sort the dataframe by the values of \"sort\"\n",
    "channel_grp_is_solved.sort_values(\"sort\", inplace=True)\n",
    "\n",
    "# Delete the \"sort\" column\n",
    "channel_grp_is_solved = channel_grp_is_solved.drop(\"sort\", axis=1)"
   ]
  },
  {
   "cell_type": "markdown",
   "id": "64c7663d",
   "metadata": {},
   "source": [
    "Assuming the larger the number in channel names, the newer it was made, channels that were created first, for the most part, has better performance compared to the channels created afterwards."
   ]
  },
  {
   "cell_type": "code",
   "execution_count": 121,
   "id": "525f3204",
   "metadata": {},
   "outputs": [
    {
     "data": {
      "image/png": "[encoded data removed]",
      "text/plain": [
       "<Figure size 640x480 with 1 Axes>"
      ]
     },
     "metadata": {},
     "output_type": "display_data"
    }
   ],
   "source": [
    "# Visualize how many calls that were solved by each channel\n",
    "channel_grp_is_solved.loc[channel_grp_is_solved[\"is_solved\"] == 1].plot(x=\"channelName\", y=\"count\", kind=\"bar\")\n",
    "plt.show()"
   ]
  }
 ],
 "metadata": {
  "kernelspec": {
   "display_name": "Python 3 (ipykernel)",
   "language": "python",
   "name": "python3"
  },
  "language_info": {
   "codemirror_mode": {
    "name": "ipython",
    "version": 3
   },
   "file_extension": ".py",
   "mimetype": "text/x-python",
   "name": "python",
   "nbconvert_exporter": "python",
   "pygments_lexer": "ipython3",
   "version": "3.8.10"
  },
  "vscode": {
   "interpreter": {
    "hash": "f51f92e4d5aba3438d674ea2b3d973d24f8abcc6852204cfda60074b265ff76d"
   }
  }
 },
 "nbformat": 4,
 "nbformat_minor": 5
}
