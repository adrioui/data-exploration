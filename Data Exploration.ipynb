{
 "cells": [
  {
   "cell_type": "markdown",
   "id": "33b3a76c",
   "metadata": {},
   "source": [
    "# Introduction:\n",
    "\n",
    "The dataset for further analysis is customer service log from a certain company."
   ]
  },
  {
   "cell_type": "markdown",
   "id": "4c7dbab8",
   "metadata": {},
   "source": [
    "# The questions about this dataset:\n",
    "\n",
    "How many channels are typically required for a single call? \n",
    "\n",
    "Can you provide a range for the duration of calls? \n",
    "\n",
    "Are there specific trends describing whether calls are solved? \n",
    "\n",
    "Which channels should we prioritize for improvement? \n",
    "\n",
    "How should we measure the success of future improvement?"
   ]
  },
  {
   "cell_type": "code",
   "execution_count": 1,
   "id": "b8eb9be2",
   "metadata": {},
   "outputs": [],
   "source": [
    "# Import the required library\n",
    "import pandas as pd\n",
    "import matplotlib.pyplot as plt"
   ]
  },
  {
   "cell_type": "code",
   "execution_count": 2,
   "id": "5fc32606",
   "metadata": {},
   "outputs": [
    {
     "data": {
      "text/html": [
       "<div>\n",
       "<style scoped>\n",
       "    .dataframe tbody tr th:only-of-type {\n",
       "        vertical-align: middle;\n",
       "    }\n",
       "\n",
       "    .dataframe tbody tr th {\n",
       "        vertical-align: top;\n",
       "    }\n",
       "\n",
       "    .dataframe thead th {\n",
       "        text-align: right;\n",
       "    }\n",
       "</style>\n",
       "<table border=\"1\" class=\"dataframe\">\n",
       "  <thead>\n",
       "    <tr style=\"text-align: right;\">\n",
       "      <th></th>\n",
       "      <th>time</th>\n",
       "      <th>is_solved</th>\n",
       "      <th>userId</th>\n",
       "      <th>channelName</th>\n",
       "    </tr>\n",
       "  </thead>\n",
       "  <tbody>\n",
       "    <tr>\n",
       "      <th>0</th>\n",
       "      <td>1.556374e+09</td>\n",
       "      <td>0</td>\n",
       "      <td>26643</td>\n",
       "      <td>channel_0</td>\n",
       "    </tr>\n",
       "    <tr>\n",
       "      <th>1</th>\n",
       "      <td>1.546934e+09</td>\n",
       "      <td>0</td>\n",
       "      <td>636656</td>\n",
       "      <td>channel_1</td>\n",
       "    </tr>\n",
       "    <tr>\n",
       "      <th>2</th>\n",
       "      <td>1.544429e+09</td>\n",
       "      <td>0</td>\n",
       "      <td>485014</td>\n",
       "      <td>channel_2</td>\n",
       "    </tr>\n",
       "    <tr>\n",
       "      <th>3</th>\n",
       "      <td>1.547461e+09</td>\n",
       "      <td>0</td>\n",
       "      <td>772798</td>\n",
       "      <td>channel_1</td>\n",
       "    </tr>\n",
       "    <tr>\n",
       "      <th>4</th>\n",
       "      <td>1.546843e+09</td>\n",
       "      <td>0</td>\n",
       "      <td>877701</td>\n",
       "      <td>channel_3</td>\n",
       "    </tr>\n",
       "  </tbody>\n",
       "</table>\n",
       "</div>"
      ],
      "text/plain": [
       "           time  is_solved  userId channelName\n",
       "0  1.556374e+09          0   26643   channel_0\n",
       "1  1.546934e+09          0  636656   channel_1\n",
       "2  1.544429e+09          0  485014   channel_2\n",
       "3  1.547461e+09          0  772798   channel_1\n",
       "4  1.546843e+09          0  877701   channel_3"
      ]
     },
     "execution_count": 2,
     "metadata": {},
     "output_type": "execute_result"
    }
   ],
   "source": [
    "# Load the csv file and convert it to be a pandas dataframe and print out the head\n",
    "df = pd.read_csv(\"call_logging.csv\")\n",
    "df.head()"
   ]
  },
  {
   "cell_type": "code",
   "execution_count": 3,
   "id": "0e4e086c",
   "metadata": {},
   "outputs": [
    {
     "data": {
      "text/plain": [
       "(14772712, 4)"
      ]
     },
     "execution_count": 3,
     "metadata": {},
     "output_type": "execute_result"
    }
   ],
   "source": [
    "# Check the rows and columns of this dataset\n",
    "df.shape  "
   ]
  },
  {
   "cell_type": "code",
   "execution_count": 4,
   "id": "364dbe34",
   "metadata": {},
   "outputs": [
    {
     "data": {
      "text/plain": [
       "time           float64\n",
       "is_solved        int64\n",
       "userId           int64\n",
       "channelName     object\n",
       "dtype: object"
      ]
     },
     "execution_count": 4,
     "metadata": {},
     "output_type": "execute_result"
    }
   ],
   "source": [
    "# Check datatypes \n",
    "df.dtypes"
   ]
  },
  {
   "cell_type": "code",
   "execution_count": 5,
   "id": "debf527d",
   "metadata": {},
   "outputs": [
    {
     "data": {
      "text/plain": [
       "time           7929452\n",
       "is_solved            2\n",
       "userId         1000976\n",
       "channelName         23\n",
       "dtype: int64"
      ]
     },
     "execution_count": 5,
     "metadata": {},
     "output_type": "execute_result"
    }
   ],
   "source": [
    "# Check each columns number of unique values \n",
    "df.nunique()"
   ]
  },
  {
   "cell_type": "code",
   "execution_count": 6,
   "id": "533ecca6",
   "metadata": {
    "scrolled": true
   },
   "outputs": [
    {
     "name": "stdout",
     "output_type": "stream",
     "text": [
      "<class 'pandas.core.frame.DataFrame'>\n",
      "RangeIndex: 14772712 entries, 0 to 14772711\n",
      "Data columns (total 4 columns):\n",
      " #   Column       Dtype  \n",
      "---  ------       -----  \n",
      " 0   time         float64\n",
      " 1   is_solved    int64  \n",
      " 2   userId       int64  \n",
      " 3   channelName  object \n",
      "dtypes: float64(1), int64(2), object(1)\n",
      "memory usage: 450.8+ MB\n"
     ]
    }
   ],
   "source": [
    "df.info()"
   ]
  },
  {
   "cell_type": "code",
   "execution_count": 7,
   "id": "11ef9768",
   "metadata": {},
   "outputs": [
    {
     "data": {
      "text/plain": [
       "time           146601\n",
       "is_solved           0\n",
       "userId              0\n",
       "channelName    219224\n",
       "dtype: int64"
      ]
     },
     "execution_count": 7,
     "metadata": {},
     "output_type": "execute_result"
    }
   ],
   "source": [
    "# Check null values in each column\n",
    "df.isnull().sum()"
   ]
  },
  {
   "cell_type": "code",
   "execution_count": 8,
   "id": "6f192c7d",
   "metadata": {},
   "outputs": [],
   "source": [
    "# Drop all rows with all NaN and NaT values in \"channelName\" AND \"time\" columns\n",
    "df.dropna(inplace=True)"
   ]
  },
  {
   "cell_type": "code",
   "execution_count": 9,
   "id": "79ac6209",
   "metadata": {},
   "outputs": [
    {
     "data": {
      "text/plain": [
       "time           0\n",
       "is_solved      0\n",
       "userId         0\n",
       "channelName    0\n",
       "dtype: int64"
      ]
     },
     "execution_count": 9,
     "metadata": {},
     "output_type": "execute_result"
    }
   ],
   "source": [
    "# Confirm the deletion\n",
    "df.isnull().sum()"
   ]
  },
  {
   "cell_type": "code",
   "execution_count": 10,
   "id": "48a8205a",
   "metadata": {},
   "outputs": [
    {
     "data": {
      "text/plain": [
       "86"
      ]
     },
     "execution_count": 10,
     "metadata": {},
     "output_type": "execute_result"
    }
   ],
   "source": [
    "# Check if there are some duplicates\n",
    "df.duplicated().sum()"
   ]
  },
  {
   "cell_type": "code",
   "execution_count": 11,
   "id": "dbffae21",
   "metadata": {
    "scrolled": true
   },
   "outputs": [],
   "source": [
    "# Drop the duplicates\n",
    "df.drop_duplicates(inplace=True)"
   ]
  },
  {
   "cell_type": "code",
   "execution_count": 12,
   "id": "8232dd62",
   "metadata": {},
   "outputs": [
    {
     "data": {
      "text/plain": [
       "0"
      ]
     },
     "execution_count": 12,
     "metadata": {},
     "output_type": "execute_result"
    }
   ],
   "source": [
    "# Confirm the deletion of duplicates\n",
    "df.duplicated().sum()"
   ]
  },
  {
   "cell_type": "code",
   "execution_count": 13,
   "id": "09a2ffab",
   "metadata": {},
   "outputs": [],
   "source": [
    "# Convert the UNIX time format to pandas datetime\n",
    "df[\"time\"] = pd.to_datetime(df[\"time\"], unit=\"s\")"
   ]
  },
  {
   "cell_type": "markdown",
   "id": "c6f45144",
   "metadata": {},
   "source": [
    "### How many channels are typically required for a single call?"
   ]
  },
  {
   "cell_type": "code",
   "execution_count": 14,
   "id": "ae02470c",
   "metadata": {
    "scrolled": false
   },
   "outputs": [
    {
     "data": {
      "text/html": [
       "<div>\n",
       "<style scoped>\n",
       "    .dataframe tbody tr th:only-of-type {\n",
       "        vertical-align: middle;\n",
       "    }\n",
       "\n",
       "    .dataframe tbody tr th {\n",
       "        vertical-align: top;\n",
       "    }\n",
       "\n",
       "    .dataframe thead th {\n",
       "        text-align: right;\n",
       "    }\n",
       "</style>\n",
       "<table border=\"1\" class=\"dataframe\">\n",
       "  <thead>\n",
       "    <tr style=\"text-align: right;\">\n",
       "      <th></th>\n",
       "      <th>userId</th>\n",
       "      <th>channelName</th>\n",
       "      <th>count</th>\n",
       "    </tr>\n",
       "  </thead>\n",
       "  <tbody>\n",
       "    <tr>\n",
       "      <th>0</th>\n",
       "      <td>1</td>\n",
       "      <td>channel_5</td>\n",
       "      <td>4</td>\n",
       "    </tr>\n",
       "    <tr>\n",
       "      <th>1</th>\n",
       "      <td>1</td>\n",
       "      <td>channel_3</td>\n",
       "      <td>2</td>\n",
       "    </tr>\n",
       "    <tr>\n",
       "      <th>2</th>\n",
       "      <td>1</td>\n",
       "      <td>channel_0</td>\n",
       "      <td>1</td>\n",
       "    </tr>\n",
       "    <tr>\n",
       "      <th>3</th>\n",
       "      <td>1</td>\n",
       "      <td>channel_4</td>\n",
       "      <td>1</td>\n",
       "    </tr>\n",
       "    <tr>\n",
       "      <th>4</th>\n",
       "      <td>1</td>\n",
       "      <td>channel_2</td>\n",
       "      <td>1</td>\n",
       "    </tr>\n",
       "    <tr>\n",
       "      <th>...</th>\n",
       "      <td>...</td>\n",
       "      <td>...</td>\n",
       "      <td>...</td>\n",
       "    </tr>\n",
       "    <tr>\n",
       "      <th>6990849</th>\n",
       "      <td>10001000</td>\n",
       "      <td>channel_2</td>\n",
       "      <td>23</td>\n",
       "    </tr>\n",
       "    <tr>\n",
       "      <th>6990850</th>\n",
       "      <td>10001000</td>\n",
       "      <td>channel_15</td>\n",
       "      <td>19</td>\n",
       "    </tr>\n",
       "    <tr>\n",
       "      <th>6990851</th>\n",
       "      <td>10001000</td>\n",
       "      <td>channel_18</td>\n",
       "      <td>13</td>\n",
       "    </tr>\n",
       "    <tr>\n",
       "      <th>6990852</th>\n",
       "      <td>10001000</td>\n",
       "      <td>channel_21</td>\n",
       "      <td>9</td>\n",
       "    </tr>\n",
       "    <tr>\n",
       "      <th>6990853</th>\n",
       "      <td>10001000</td>\n",
       "      <td>channel_20</td>\n",
       "      <td>2</td>\n",
       "    </tr>\n",
       "  </tbody>\n",
       "</table>\n",
       "<p>6990854 rows × 3 columns</p>\n",
       "</div>"
      ],
      "text/plain": [
       "           userId channelName  count\n",
       "0               1   channel_5      4\n",
       "1               1   channel_3      2\n",
       "2               1   channel_0      1\n",
       "3               1   channel_4      1\n",
       "4               1   channel_2      1\n",
       "...           ...         ...    ...\n",
       "6990849  10001000   channel_2     23\n",
       "6990850  10001000  channel_15     19\n",
       "6990851  10001000  channel_18     13\n",
       "6990852  10001000  channel_21      9\n",
       "6990853  10001000  channel_20      2\n",
       "\n",
       "[6990854 rows x 3 columns]"
      ]
     },
     "execution_count": 14,
     "metadata": {},
     "output_type": "execute_result"
    }
   ],
   "source": [
    "# Count the channels used for each customer\n",
    "# Deactivate multiindexing for easier use\n",
    "channels_used = df.groupby([\"userId\"], as_index=False)[\"channelName\"].value_counts()\n",
    "channels_used"
   ]
  },
  {
   "cell_type": "code",
   "execution_count": 15,
   "id": "d54ebdde",
   "metadata": {},
   "outputs": [],
   "source": [
    "channels_used_only_once = channels_used.loc[channels_used[\"count\"] == 1].drop(columns=\"channelName\")"
   ]
  },
  {
   "cell_type": "code",
   "execution_count": 16,
   "id": "7c0970e5",
   "metadata": {},
   "outputs": [],
   "source": [
    "counts_of_channels_used_only_once_from_each_user = channels_used_only_once.groupby(\"userId\", as_index=False)[\"count\"].sum()"
   ]
  },
  {
   "cell_type": "markdown",
   "id": "422f03bc",
   "metadata": {},
   "source": [
    "The typical channels required for a single call are:"
   ]
  },
  {
   "cell_type": "code",
   "execution_count": 17,
   "id": "743e04fa",
   "metadata": {},
   "outputs": [
    {
     "data": {
      "text/plain": [
       "'4 channels'"
      ]
     },
     "execution_count": 17,
     "metadata": {},
     "output_type": "execute_result"
    }
   ],
   "source": [
    "f\"{int(counts_of_channels_used_only_once_from_each_user['count'].mean().round())} channels\""
   ]
  },
  {
   "cell_type": "markdown",
   "id": "4359aeb5",
   "metadata": {},
   "source": [
    "### Can you provide a range for the duration of calls?"
   ]
  },
  {
   "cell_type": "code",
   "execution_count": 18,
   "id": "5e480785",
   "metadata": {},
   "outputs": [],
   "source": [
    "# Sort the data by time\n",
    "df.sort_values(by=\"time\", inplace=True)"
   ]
  },
  {
   "cell_type": "code",
   "execution_count": null,
   "id": "04ba8f21",
   "metadata": {},
   "outputs": [],
   "source": [
    "# Get the time interval between two subsequent calls\n",
    "df[\"time_interval\"] = df[\"time\"].diff().fillna(pd.Timedelta(0)).apply(lambda x: x.total_seconds())"
   ]
  },
  {
   "cell_type": "markdown",
   "id": "7881852a",
   "metadata": {},
   "source": [
    "The range for the duration of the calls is:"
   ]
  },
  {
   "cell_type": "code",
   "execution_count": null,
   "id": "4f0e6055",
   "metadata": {},
   "outputs": [],
   "source": [
    "# Calculate the range of duration of calls by subtracting the maximum with the minimum value \n",
    "range_of_duration_of_calls = int(df[\"time_interval\"].max() - df[\"time_interval\"].min())\n",
    "f\"{range_of_duration_of_calls} seconds\""
   ]
  },
  {
   "cell_type": "markdown",
   "id": "ad55b15b",
   "metadata": {},
   "source": [
    "### Are there specific trends describing whether calls are solved?"
   ]
  },
  {
   "cell_type": "code",
   "execution_count": null,
   "id": "b8a1f675",
   "metadata": {},
   "outputs": [],
   "source": [
    "# Drop the time_interval column\n",
    "df.drop(columns=\"time_interval\", inplace=True)"
   ]
  },
  {
   "cell_type": "markdown",
   "id": "257ef625",
   "metadata": {},
   "source": [
    " Count, for each hour, the number of calls that were received from all of the recorded data. "
   ]
  },
  {
   "cell_type": "code",
   "execution_count": null,
   "id": "81274d1a",
   "metadata": {},
   "outputs": [],
   "source": [
    "# Group by the hours of calls received and count how many calls that were received\n",
    "hour_grp_is_solved = df.groupby([df[\"time\"].dt.hour], as_index=False)[\"is_solved\"].value_counts()"
   ]
  },
  {
   "cell_type": "markdown",
   "id": "9b0f95bf",
   "metadata": {},
   "source": [
    "The trend based on the hours of calls that were solved is skewed to the left. Which means the majority of the calls that were resolved, as hours goes by, were decreased."
   ]
  },
  {
   "cell_type": "code",
   "execution_count": null,
   "id": "953d40d4",
   "metadata": {},
   "outputs": [],
   "source": [
    "# Visualize the calls that were solved by each hour\n",
    "hour_grp_is_solved.loc[hour_grp_is_solved[\"is_solved\"] == 1].plot(x=\"time\", y=\"count\", title=\"Hourly Resolved\", kind=\"bar\")\n",
    "plt.show()"
   ]
  },
  {
   "cell_type": "markdown",
   "id": "65f3f66c",
   "metadata": {},
   "source": [
    " Count the calls that were received from all of the recorded data on each day. "
   ]
  },
  {
   "cell_type": "code",
   "execution_count": null,
   "id": "f3bcaa04",
   "metadata": {},
   "outputs": [],
   "source": [
    "# Group by the days of calls received and count how many calls that were solved or not\n",
    "day_grp_is_solved = df.groupby([df[\"time\"].dt.day_name()], as_index=False)[\"is_solved\"].value_counts()\n",
    "\n",
    "# Sort the data by the day name of a week\n",
    "sort = [\"Monday\", \"Tuesday\", \"Wednesday\", \"Thursday\", \"Friday\", \"Saturday\", \"Sunday\"]\n",
    "day_grp_is_solved[\"time\"] = pd.Categorical(day_grp_is_solved[\"time\"], categories=sort, ordered=True)\n",
    "day_grp_is_solved = day_grp_is_solved.sort_values(\"time\")\n",
    "\n",
    "# Rename \"time\" column to \"day_name\"\n",
    "day_grp_is_solved.rename(columns={\"time\": \"day_name\"}, inplace=True)"
   ]
  },
  {
   "cell_type": "markdown",
   "id": "66aee16b",
   "metadata": {},
   "source": [
    "For most of the days, the number of calls that were solved were decreased."
   ]
  },
  {
   "cell_type": "code",
   "execution_count": null,
   "id": "b07e78d7",
   "metadata": {},
   "outputs": [],
   "source": [
    "day_grp_is_solved.loc[day_grp_is_solved[\"is_solved\"] == 1].plot(x=\"day_name\", y=\"count\", title=\"Daily Resolved\", kind=\"bar\")\n",
    "plt.show()"
   ]
  },
  {
   "cell_type": "markdown",
   "id": "ea19545f",
   "metadata": {},
   "source": [
    "### Which channels should we prioritize for improvement? "
   ]
  },
  {
   "cell_type": "markdown",
   "id": "14e870af",
   "metadata": {},
   "source": [
    " Count the number of calls that were received from all of the recorded data for each channel. "
   ]
  },
  {
   "cell_type": "code",
   "execution_count": null,
   "id": "6886eaf8",
   "metadata": {},
   "outputs": [],
   "source": [
    "# Group by channels that received the calls and count how many calls that were solved or not \n",
    "channel_grp_is_solved = df.groupby(\"channelName\", as_index=False)[\"is_solved\"].value_counts()\n",
    "\n",
    "# Extract the digits in channel's name and convert it to integer and make new column out of it\n",
    "channel_grp_is_solved[\"sort\"] = channel_grp_is_solved[\"channelName\"].str.extract(\"(\\d+)\").astype(int)\n",
    "\n",
    "# Sort the dataframe by the values of \"sort\"\n",
    "channel_grp_is_solved.sort_values(\"sort\", inplace=True)\n",
    "\n",
    "# Delete the \"sort\" column\n",
    "channel_grp_is_solved = channel_grp_is_solved.drop(\"sort\", axis=1)"
   ]
  },
  {
   "cell_type": "markdown",
   "id": "c8ba9b85",
   "metadata": {},
   "source": [
    "For each channel, count the number of calls that were received **whether or not they are solved**."
   ]
  },
  {
   "cell_type": "code",
   "execution_count": null,
   "id": "585fa4d4",
   "metadata": {},
   "outputs": [],
   "source": [
    "# Group by channels that received the calls and sum how many times it received the calls\n",
    "channels_received_calls_count = channel_grp_is_solved.groupby(\"channelName\").sum().reset_index()\n",
    "\n",
    "# Extract the digits in channel's name and convert it to integer and make new column out of it\n",
    "channels_received_calls_count[\"sort\"] = channels_received_calls_count[\"channelName\"].str.extract(\"(\\d+)\").astype(int)\n",
    "\n",
    "# Sort the dataframe by the values of \"sort\"\n",
    "channels_received_calls_count.sort_values(\"sort\", inplace=True)\n",
    "\n",
    "# Delete certain columns\n",
    "channels_received_calls_count = channels_received_calls_count.drop([\"sort\", \"is_solved\"], axis=1)"
   ]
  },
  {
   "cell_type": "markdown",
   "id": "12b4907c",
   "metadata": {},
   "source": [
    "How many calls that were **received** by each channel?"
   ]
  },
  {
   "cell_type": "code",
   "execution_count": null,
   "id": "fd02ebdb",
   "metadata": {},
   "outputs": [],
   "source": [
    "channels_received_calls_count.plot(x=\"channelName\", y=\"count\", title=\"Channels Received\", kind=\"bar\")\n",
    "plt.show()"
   ]
  },
  {
   "cell_type": "markdown",
   "id": "3ac922a1",
   "metadata": {},
   "source": [
    "How many calls that were **solved** by each channel?"
   ]
  },
  {
   "cell_type": "code",
   "execution_count": null,
   "id": "0ca64f36",
   "metadata": {},
   "outputs": [],
   "source": [
    "channel_grp_is_solved.loc[channel_grp_is_solved[\"is_solved\"] == 1].plot(x=\"channelName\", y=\"count\", title=\"Channels Solved\", kind=\"bar\")\n",
    "plt.show()"
   ]
  },
  {
   "cell_type": "markdown",
   "id": "539148eb",
   "metadata": {},
   "source": [
    "How many calls that were **not solved** by each channel?"
   ]
  },
  {
   "cell_type": "code",
   "execution_count": null,
   "id": "7e046a4f",
   "metadata": {
    "scrolled": false
   },
   "outputs": [],
   "source": [
    "channel_grp_is_solved.loc[channel_grp_is_solved[\"is_solved\"] == 0].plot(x=\"channelName\", y=\"count\", title=\"Channels Not Solved\", kind=\"bar\")\n",
    "plt.show()"
   ]
  },
  {
   "cell_type": "markdown",
   "id": "a2679f66",
   "metadata": {},
   "source": [
    "Channels that we should prioritize for improvement based on above charts are:\n",
    "1. channel_3. Because it is the channel that used the most by customers and it is also the channel that was not solved customer's needs the most.\n",
    "2. channel_7. Because it is one of the channels that is frequently used by customers and the channel that, at most, solved customers' needs. "
   ]
  },
  {
   "cell_type": "markdown",
   "id": "b5fee6ec",
   "metadata": {},
   "source": [
    "### How should we measure the success of future improvement?"
   ]
  },
  {
   "cell_type": "markdown",
   "id": "21ed0741",
   "metadata": {},
   "source": [
    "The metric I use to measure the success of future improvement is based on customer satisfaction (\"is_solved\" column)."
   ]
  },
  {
   "cell_type": "code",
   "execution_count": null,
   "id": "93f5f685",
   "metadata": {},
   "outputs": [],
   "source": [
    "# Group by years and months that received calls\n",
    "year_grp_is_solved = df.groupby([df[\"time\"].dt.year], as_index=False)[\"is_solved\"].value_counts()\n",
    "month_grp_is_solved = df.groupby([df[\"time\"].dt.to_period('M')], as_index=False)[\"is_solved\"].value_counts()"
   ]
  },
  {
   "cell_type": "markdown",
   "id": "649c0937",
   "metadata": {},
   "source": [
    "As these charts below show, the objective is to **maintain and improve**, if possible, the **quality of the channels that performed well** (resolved many of the customers' needs and received the most calls) and the **time (daily and hourly) that solved the most calls**. Thus the metric to measure the success of future improvement is if the **quality of those channels**, and the **times that resolved the most calls** are improving from time to time."
   ]
  },
  {
   "cell_type": "code",
   "execution_count": null,
   "id": "dc4c2310",
   "metadata": {
    "scrolled": false
   },
   "outputs": [],
   "source": [
    "channel_grp_is_solved.loc[channel_grp_is_solved[\"is_solved\"] == 1].plot(x=\"channelName\", y=\"count\", title=\"Channels Resolved\", kind=\"bar\")\n",
    "channels_received_calls_count.plot(x=\"channelName\", y=\"count\", title=\"Channels Received\", kind=\"bar\")\n",
    "year_grp_is_solved.loc[year_grp_is_solved[\"is_solved\"] == 1].plot(x=\"time\", y=\"count\", title=\"Yearly Resolved\", kind=\"bar\")\n",
    "month_grp_is_solved.loc[month_grp_is_solved[\"is_solved\"] == 1].plot(x=\"time\", y=\"count\", title=\"Monthly Resolved\", kind=\"bar\")\n",
    "day_grp_is_solved.loc[day_grp_is_solved[\"is_solved\"] == 1].plot(x=\"day_name\", y=\"count\", title=\"Daily Resolved\", kind=\"bar\")\n",
    "hour_grp_is_solved.loc[hour_grp_is_solved[\"is_solved\"] == 1].plot(x=\"time\", y=\"count\", title=\"Hourly Resolved\", kind=\"bar\")\n",
    "plt.show()"
   ]
  }
 ],
 "metadata": {
  "kernelspec": {
   "display_name": "Python 3 (ipykernel)",
   "language": "python",
   "name": "python3"
  },
  "language_info": {
   "codemirror_mode": {
    "name": "ipython",
    "version": 3
   },
   "file_extension": ".py",
   "mimetype": "text/x-python",
   "name": "python",
   "nbconvert_exporter": "python",
   "pygments_lexer": "ipython3",
   "version": "3.8.10"
  },
  "vscode": {
   "interpreter": {
    "hash": "f51f92e4d5aba3438d674ea2b3d973d24f8abcc6852204cfda60074b265ff76d"
   }
  }
 },
 "nbformat": 4,
 "nbformat_minor": 5
}
